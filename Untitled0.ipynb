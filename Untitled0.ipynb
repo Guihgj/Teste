{
  "nbformat": 4,
  "nbformat_minor": 0,
  "metadata": {
    "colab": {
      "provenance": [],
      "mount_file_id": "1RdYi33jB-UeXVoO160UN28WnCBjeWHC3",
      "authorship_tag": "ABX9TyP2JvPucEzuDILo9tN71yhr",
      "include_colab_link": true
    },
    "kernelspec": {
      "name": "python3",
      "display_name": "Python 3"
    },
    "language_info": {
      "name": "python"
    }
  },
  "cells": [
    {
      "cell_type": "markdown",
      "metadata": {
        "id": "view-in-github",
        "colab_type": "text"
      },
      "source": [
        "<a href=\"https://colab.research.google.com/github/Guihgj/Teste/blob/main/Untitled0.ipynb\" target=\"_parent\"><img src=\"https://colab.research.google.com/assets/colab-badge.svg\" alt=\"Open In Colab\"/></a>"
      ]
    },
    {
      "cell_type": "code",
      "execution_count": null,
      "metadata": {
        "colab": {
          "base_uri": "https://localhost:8080/"
        },
        "id": "qBeA6IONue93",
        "outputId": "6dcade7a-ab84-442a-b099-8c38316d4753"
      },
      "outputs": [
        {
          "output_type": "stream",
          "name": "stdout",
          "text": [
            "<Response [200]>\n",
            "<meta charset=\"utf-8\"/>\n",
            "<meta content=\"width=device-width, initial-scale=1\" name=\"viewport\"/>\n",
            "<meta content=\"IE=edge\" http-equiv=\"X-UA-Compatible\"/>\n",
            "<meta content=\"origin\" name=\"referrer\"/>\n",
            "<meta content=\"Capivara Rota\" property=\"og:title\"/>\n",
            "<meta content=\"website\" property=\"og:type\"/>\n",
            "<meta content=\"https://www.capivararota.com/\" property=\"og:url\"/>\n",
            "<meta content=\"Serra da Mantiqueira \n",
            "\" property=\"og:description\"/>\n",
            "<meta content=\"Capivara Rota\" itemprop=\"name\"/>\n",
            "<meta content=\"Serra da Mantiqueira \n",
            "\" itemprop=\"description\"/>\n",
            "<meta content=\"https://www.capivararota.com/\" itemprop=\"url\"/>\n",
            "<meta content=\"https://lh4.googleusercontent.com/1jM7WbtQnzcTL1VvZ6LMbga8rq2K7pT8Q30UKgLssQJZVk8LvaUYarSE_VVYAVJ2M3ebhNIfGwwTeAmVmNp9fBM=w16383\" itemprop=\"thumbnailUrl\"/>\n",
            "<meta content=\"https://lh4.googleusercontent.com/1jM7WbtQnzcTL1VvZ6LMbga8rq2K7pT8Q30UKgLssQJZVk8LvaUYarSE_VVYAVJ2M3ebhNIfGwwTeAmVmNp9fBM=w16383\" itemprop=\"image\"/>\n",
            "<meta content=\"https://lh4.googleusercontent.com/1jM7WbtQnzcTL1VvZ6LMbga8rq2K7pT8Q30UKgLssQJZVk8LvaUYarSE_VVYAVJ2M3ebhNIfGwwTeAmVmNp9fBM=w16383\" itemprop=\"imageUrl\"/>\n",
            "<meta content=\"https://lh4.googleusercontent.com/1jM7WbtQnzcTL1VvZ6LMbga8rq2K7pT8Q30UKgLssQJZVk8LvaUYarSE_VVYAVJ2M3ebhNIfGwwTeAmVmNp9fBM=w16383\" property=\"og:image\"/>\n"
          ]
        }
      ],
      "source": [
        "from bs4 import BeautifulSoup\n",
        "import requests\n",
        "\n",
        "url = \"https://www.capivararota.com/\"\n",
        "\n",
        "page = requests.get(url)\n",
        "\n",
        "print(page)\n",
        "\n",
        "soup = BeautifulSoup(page.text,'html')\n",
        "\n",
        "meta = soup.find_all('meta')\n",
        "\n",
        "for x in meta:\n",
        "\n",
        "  print(x)\n",
        "\n",
        "#titulo = soup.find('title)\n",
        "#print(titulo)"
      ]
    },
    {
      "cell_type": "code",
      "source": [
        "from bs4 import BeautifulSoup\n",
        "import requests\n",
        "\n",
        "url = 'https://www.scrapethissite.com/pages/forms'\n",
        "\n",
        "page = requests.get(url)\n",
        "#print(page) # tras o codigo <Response[200]>se deu certo.\n",
        "\n",
        "soup = BeautifulSoup(page.text,'html')\n",
        "\n",
        "#title = soup.find_all('title)\n",
        "#print(title)\n",
        "\n",
        "tabela = soup.find('table')\n",
        "tr_titulos = tabela.find('tr')\n",
        "\n",
        "print(tr_titulos)\n",
        "\n",
        "#team = soup.find_all(\"td\", class_='name')\n",
        "#print(team)\n"
      ],
      "metadata": {
        "colab": {
          "base_uri": "https://localhost:8080/"
        },
        "id": "iP8bt2g-7lzm",
        "outputId": "954ae643-3db7-442f-c4fd-4a6e96b4642a"
      },
      "execution_count": null,
      "outputs": [
        {
          "output_type": "stream",
          "name": "stdout",
          "text": [
            "<tr>\n",
            "<th>\n",
            "                            Team Name\n",
            "                        </th>\n",
            "<th>\n",
            "                            Year\n",
            "                        </th>\n",
            "<th>\n",
            "                            Wins\n",
            "                        </th>\n",
            "<th>\n",
            "                            Losses\n",
            "                        </th>\n",
            "<th>\n",
            "                            OT Losses\n",
            "                        </th>\n",
            "<th>\n",
            "                            Win %\n",
            "                        </th>\n",
            "<th>\n",
            "                            Goals For (GF)\n",
            "                        </th>\n",
            "<th>\n",
            "                            Goals Against (GA)\n",
            "                        </th>\n",
            "<th>\n",
            "                            + / -\n",
            "                        </th>\n",
            "</tr>\n"
          ]
        }
      ]
    },
    {
      "cell_type": "code",
      "source": [
        "soup = BeautifulSoup(page.text,'html')\n",
        "\n",
        "#title = soup.find_all('title)\n",
        "#print(title)\n",
        "\n",
        "tabela = soup.find('tabela')\n",
        "#titulos = tabela.find_all('th)\n",
        "\n",
        "#print(#titulos)\n",
        "\n",
        "team = soup.find_all(\"td\", class_='name')\n",
        "#print(team)\n",
        "\n",
        "nomesTimes = [x.text.strip()for x in team]# x.text.strip() : recorta somente os textos, não tras a tag html\n",
        "print(nomesTimes)\n",
        "for x in nomesTimes:\n",
        "  print(x)"
      ],
      "metadata": {
        "id": "2OQ6jUYyHTTu"
      },
      "execution_count": null,
      "outputs": []
    },
    {
      "cell_type": "code",
      "source": [
        "from bs4 import BeautifulSoup\n",
        "import requests\n",
        "\n",
        "url = 'https://www.remessaonline.com.br/cotacao/cotacao-dolar'\n",
        "\n",
        "page = requests.get(url)\n",
        "\n",
        "soup = BeautifulSoup(page.text,'html')\n",
        "\n",
        "precoDolar = soup.find(\"div\",class_='style__Text-sc-1a6mtr6-2 ljisZu')\n",
        "\n",
        "print(precoDolar)\n",
        "\n",
        "real = [x.text.strip() for x in precoDolar]\n",
        "print(real)\n",
        "\n"
      ],
      "metadata": {
        "id": "SR0EJeHyHTjH",
        "colab": {
          "base_uri": "https://localhost:8080/"
        },
        "outputId": "a6d6d96d-bcfe-43cb-bae7-6d572c58f2fc"
      },
      "execution_count": 30,
      "outputs": [
        {
          "output_type": "stream",
          "name": "stdout",
          "text": [
            "<div class=\"style__Text-sc-1a6mtr6-2 ljisZu\">4,96 Reais</div>\n",
            "['4,96 Reais']\n"
          ]
        }
      ]
    },
    {
      "cell_type": "code",
      "source": [],
      "metadata": {
        "id": "tgAShqxtHTun"
      },
      "execution_count": 14,
      "outputs": []
    }
  ]
}